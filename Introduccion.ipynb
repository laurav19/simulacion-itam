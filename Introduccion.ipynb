{
 "metadata": {
  "name": "",
  "signature": "sha256:eae98ab06fcc801ffbe3d754b80c548708e5a84a077a5f4332f57e6a326fad2f"
 },
 "nbformat": 3,
 "nbformat_minor": 0,
 "worksheets": [
  {
   "cells": [
    {
     "cell_type": "code",
     "collapsed": false,
     "input": [
      "import numpy as np\n",
      "from numpy import random as rnd"
     ],
     "language": "python",
     "metadata": {},
     "outputs": [],
     "prompt_number": 1
    },
    {
     "cell_type": "heading",
     "level": 1,
     "metadata": {},
     "source": [
      "Introducci\u00f3n a la simulaci\u00f3n"
     ]
    },
    {
     "cell_type": "markdown",
     "metadata": {},
     "source": [
      "1) Aproximar el valor de la integral $\\theta$ utilizando la aproximaci\u00f3n Monte Carlo\n",
      "$$ \\theta = \\int_{-\\infty}^{\\infty} e^{-\\frac{x^2}{2}}dx $$"
     ]
    },
    {
     "cell_type": "markdown",
     "metadata": {},
     "source": [
      "$ \\theta = \\int_{-\\infty}^{\\infty} e^{-\\frac{x^2}{2}}dx = \\int_{-\\infty}^{0} e^{-\\frac{x^2}{2}}dx + \\int_{0}^{\\infty} e^{-\\frac{x^2}{2}}dx $\n",
      "\n",
      "como $ e^{-\\frac{x^2}{2}} $ es par, entonces:\n",
      "$ \\int_{-\\infty}^{0} e^{-\\frac{x^2}{2}}dx = \\int_{0}^{\\infty} e^{-\\frac{x^2}{2}}dx $\n",
      "\n",
      "y por lo tanto: $ \\theta =  2 \\int_{0}^{\\infty} e^{-\\frac{x^2}{2}}dx$\n",
      "\n",
      "Sea $ g(x) = e^{-\\frac{x^2}{2}} $ entonces $ \\theta = 2\\int_{0}^{1} h(y)dy $\n",
      "\n",
      "donde $ h(y) = (\\frac{1}{y})^2g(\\frac{1}{y}-1) = (\\frac{1}{y})^2(e^{-\\frac{(\\frac{1}{y}-1)^2}{2}}) $"
     ]
    },
    {
     "cell_type": "code",
     "collapsed": false,
     "input": [
      "def fun_h1(x):\n",
      "    y = (1/x - 1)**2\n",
      "    y = np.exp(-y/2)\n",
      "    y = y*(1/x)**2\n",
      "    return y"
     ],
     "language": "python",
     "metadata": {},
     "outputs": [],
     "prompt_number": 2
    },
    {
     "cell_type": "code",
     "collapsed": false,
     "input": [
      "n = 10000"
     ],
     "language": "python",
     "metadata": {},
     "outputs": [],
     "prompt_number": 3
    },
    {
     "cell_type": "markdown",
     "metadata": {},
     "source": [
      "Pasos:\n",
      "\n",
      "a. Simular $ \\{u_i\\}_{i=1}^n \\sim U(0,1) $"
     ]
    },
    {
     "cell_type": "code",
     "collapsed": false,
     "input": [
      "vec_u1 = rnd.rand(n,1)"
     ],
     "language": "python",
     "metadata": {},
     "outputs": [],
     "prompt_number": 4
    },
    {
     "cell_type": "markdown",
     "metadata": {},
     "source": [
      "b. Obtener $ \\{x_i\\}_{i=1}^n$ donde $ x_i = h(u_i)$"
     ]
    },
    {
     "cell_type": "code",
     "collapsed": false,
     "input": [
      "vec_x1 = fun_h1(vec_u1)"
     ],
     "language": "python",
     "metadata": {},
     "outputs": [],
     "prompt_number": 5
    },
    {
     "cell_type": "markdown",
     "metadata": {},
     "source": [
      "c. Obtener $ \\hat\\theta = \\frac{2}{n}\\sum_{i=1}^n{x_i} $"
     ]
    },
    {
     "cell_type": "code",
     "collapsed": false,
     "input": [
      "theta1 = 2*np.mean(vec_x1)\n",
      "theta1"
     ],
     "language": "python",
     "metadata": {},
     "outputs": [
      {
       "metadata": {},
       "output_type": "pyout",
       "prompt_number": 6,
       "text": [
        "2.5060354898681902"
       ]
      }
     ],
     "prompt_number": 6
    },
    {
     "cell_type": "markdown",
     "metadata": {},
     "source": [
      "Encontramos que $\\hat\\theta \\approx 2.5$\n",
      "\n",
      "Resolviendo la integral anal\u00edticamente obtenemos que $\\theta = \\sqrt{2\\pi} \\approx 2.50663$, con lo cual confirmamos el valor que obtuvimos en la estimaci\u00f3n.\n",
      "\n",
      "$ $"
     ]
    },
    {
     "cell_type": "markdown",
     "metadata": {},
     "source": [
      "2) Crear funciones para evaluar las siguientes integrales, utilizando la aproximaci\u00f3n Monte Carlo:"
     ]
    },
    {
     "cell_type": "markdown",
     "metadata": {},
     "source": [
      "a) $ \\Gamma(\\alpha) = \\int_{0}^{\\infty} x^{\\alpha - 1} e^{-x}dx $"
     ]
    },
    {
     "cell_type": "markdown",
     "metadata": {},
     "source": [
      "Sea $ g(x) = x^{\\alpha - 1} e^{-x} $ entonces $ \\Gamma(\\alpha) = \\int_{0}^{1} h(y)dy $\n",
      "\n",
      "donde $ h(y) = (\\frac{1}{y})^2g(\\frac{1}{y}-1) = (\\frac{1}{y})^2((\\frac{1}{y}-1)^{\\alpha - 1} e^{-(\\frac{1}{y}-1)}) $"
     ]
    },
    {
     "cell_type": "code",
     "collapsed": false,
     "input": [
      "def fun_h2a(x,a):\n",
      "    y = (1/x - 1)**(a-1)\n",
      "    y = y*np.exp(-(1/x - 1))\n",
      "    y = y*(1/x)**2\n",
      "    return y"
     ],
     "language": "python",
     "metadata": {},
     "outputs": [],
     "prompt_number": 7
    },
    {
     "cell_type": "markdown",
     "metadata": {},
     "source": [
      "Pasos:\n",
      "\n",
      "1) Simular $ \\{u_i\\}_{i=1}^n \\sim U(0,1) $"
     ]
    },
    {
     "cell_type": "markdown",
     "metadata": {},
     "source": [
      "2) Obtener $ \\{x_i\\}_{i=1}^n$ donde $ x_i = h(u_i)$"
     ]
    },
    {
     "cell_type": "markdown",
     "metadata": {},
     "source": [
      "3) Obtener $ \\hat\\Gamma(\\alpha) = \\frac{1}{n}\\sum_{i=1}^n{x_i} $"
     ]
    },
    {
     "cell_type": "code",
     "collapsed": false,
     "input": [
      "def aprox_gamma(a, n):\n",
      "    u = rnd.rand(n,1)\n",
      "    x = fun_h2a(u, a)\n",
      "    theta = np.mean(x)\n",
      "    return theta"
     ],
     "language": "python",
     "metadata": {},
     "outputs": [],
     "prompt_number": 8
    },
    {
     "cell_type": "markdown",
     "metadata": {},
     "source": [
      "b) $ B(\\alpha, \\beta) = \\int_{0}^{1} x^{\\alpha - 1} (1 - x)^{\\beta - 1}dx $\n",
      "\n",
      "Sea $ g(x) = x^{\\alpha - 1} (1 - x)^{\\beta - 1} $ entonces $ B(\\alpha, \\beta) = \\int_{0}^{1} g(x)dx $"
     ]
    },
    {
     "cell_type": "code",
     "collapsed": false,
     "input": [
      "def fun_g2a(x,a,b):\n",
      "    y = x**(a-1)\n",
      "    y = y*(1-x)**(b-1)\n",
      "    return y"
     ],
     "language": "python",
     "metadata": {},
     "outputs": [],
     "prompt_number": 9
    },
    {
     "cell_type": "markdown",
     "metadata": {},
     "source": [
      "Pasos:\n",
      "\n",
      "1) Simular $ \\{u_i\\}_{i=1}^n \\sim U(0,1) $\n",
      "\n",
      "2) Obtener $ \\{x_i\\}_{i=1}^n$ donde $ x_i = g(u_i)$\n",
      "\n",
      "3) Obtener $ \\hat B(\\alpha, \\beta) = \\frac{1}{n}\\sum_{i=1}^n{x_i} $"
     ]
    },
    {
     "cell_type": "code",
     "collapsed": false,
     "input": [
      "def aprox_beta(a, b, n):\n",
      "    u = rnd.rand(n,1)\n",
      "    x = fun_g2a(u, a, b)\n",
      "    theta = np.mean(x)\n",
      "    return theta"
     ],
     "language": "python",
     "metadata": {},
     "outputs": [],
     "prompt_number": 10
    },
    {
     "cell_type": "markdown",
     "metadata": {},
     "source": [
      "3) Utilizando las funciones implementadas anteriormente, calcular los siguientes valores:"
     ]
    },
    {
     "cell_type": "code",
     "collapsed": false,
     "input": [
      "n = 10000"
     ],
     "language": "python",
     "metadata": {},
     "outputs": [],
     "prompt_number": 11
    },
    {
     "cell_type": "markdown",
     "metadata": {},
     "source": [
      "a) $\\frac{\\Gamma(3) \\cdot \\Gamma(6)}{\\Gamma(3 + 6)}$"
     ]
    },
    {
     "cell_type": "code",
     "collapsed": false,
     "input": [
      "aprox_gamma(3,n)*aprox_gamma(6,n)/aprox_gamma(3+6,n)"
     ],
     "language": "python",
     "metadata": {},
     "outputs": [
      {
       "metadata": {},
       "output_type": "pyout",
       "prompt_number": 12,
       "text": [
        "0.0059889128367301026"
       ]
      }
     ],
     "prompt_number": 12
    },
    {
     "cell_type": "markdown",
     "metadata": {},
     "source": [
      "b) $ B(3,6) $"
     ]
    },
    {
     "cell_type": "code",
     "collapsed": false,
     "input": [
      "aprox_beta(3,6,n)"
     ],
     "language": "python",
     "metadata": {},
     "outputs": [
      {
       "metadata": {},
       "output_type": "pyout",
       "prompt_number": 13,
       "text": [
        "0.0059372814995464996"
       ]
      }
     ],
     "prompt_number": 13
    },
    {
     "cell_type": "markdown",
     "metadata": {},
     "source": [
      "Los dos resultados son muy parecidos y esto es l\u00f3gico pues la funci\u00f3n $B(a,b)$ se define como $\\frac{\\Gamma(a) \\cdot \\Gamma(b)}{\\Gamma(a + b)}$\n",
      "\n",
      "Si calculamos exactamente  llegamos a $\\frac{\\Gamma(3) \\cdot \\Gamma(6)}{\\Gamma(3 + 6)} = B(3,6) = \\frac{1}{168} = 0.005\\overline{952380}$ que es un valor muy cercano a los que calculamos.\n",
      "\n",
      "$ $"
     ]
    },
    {
     "cell_type": "markdown",
     "metadata": {},
     "source": [
      "4) Sea $X$ una v. a. definida con la siguiente funci\u00f3n de densidad:\n",
      "$$ f(x) = 6 \\tau x^{2\\tau - 1} (1 - x^\\tau) \\cdot I_{\\{x\\in(0,1)\\}} \\quad ; \\quad \\tau > 0 $$"
     ]
    },
    {
     "cell_type": "markdown",
     "metadata": {},
     "source": [
      "a) Demostrar que $\\tau$ es un \"par\u00e1metro de transformaci\u00f3n\" aplicado a la v. a. $Z \\sim Beta(\\alpha, \\beta)$\n",
      "\n",
      "$Z \\sim Beta(\\alpha, \\beta)$ entonces $f_Z(z) = \\frac{z^{\\alpha - 1} (1-z)^{\\beta - 1}}{B(\\alpha, \\beta)}$ por lo que $f_Z(x^\\tau) = \\frac{(x^\\tau)^{\\alpha - 1} (1-x^\\tau)^{\\beta - 1}}{B(\\alpha, \\beta)}$\n",
      "\n",
      "por otra parte ya que $0 < x < 1$ y $\\tau > 0$, entonces $0 < x^\\tau < 1$\n",
      "\n",
      "$ \\Rightarrow x^\\tau \\in(0,1) \\Rightarrow x^\\tau$ pertenece al soporte de $Z$\n",
      "\n",
      "$ $\n",
      "\n",
      "$\\tau$ ser\u00e1 un par\u00e1metro de transformaci\u00f3n $\\Leftrightarrow f_X(x) = \\tau x^{\\tau - 1} f_Z(x^\\tau)$\n",
      "\n",
      "$\\Leftrightarrow 6 \\tau x^{2\\tau - 1} (1 - x^\\tau) = \\tau x^{\\tau - 1} \\cdot \\frac{(x^\\tau)^{\\alpha - 1} (1-x^\\tau)^{\\beta - 1}}{B(\\alpha, \\beta)}$\n",
      "\n",
      "$\\Leftrightarrow 6 x^{2\\tau - 1} (1 - x^\\tau) = \\frac{x^{\\tau - 1 + \\alpha\\tau - \\tau} (1-x^\\tau)^{\\beta - 1}}{B(\\alpha, \\beta)} \\Leftrightarrow 6 x^{2\\tau - 1} (1 - x^\\tau) = \\frac{x^{\\alpha\\tau - 1} (1-x^\\tau)^{\\beta - 1}}{B(\\alpha, \\beta)}$\n",
      "\n",
      "$\\Leftrightarrow 6 = \\frac{1}{B(\\alpha, \\beta)}, \\quad 2\\tau - 1 = \\alpha\\tau - 1$ y $\\beta - 1 = 1 \\Leftrightarrow \\alpha = 2$ y $\\beta = 2$\n",
      "\n",
      "Por lo tanto $\\tau$ es un par\u00e1metro de transformaci\u00f3n para $\\alpha, \\beta = 2$."
     ]
    },
    {
     "cell_type": "markdown",
     "metadata": {},
     "source": [
      "$ $\n",
      "\n",
      "b) Especificar los valores de los par\u00e1metros $\\alpha$ y $\\beta$ de la distribuci\u00f3n anterior\n",
      "\n",
      "$$ \\alpha = 2 \\quad y \\quad \\beta = 2 $$"
     ]
    },
    {
     "cell_type": "markdown",
     "metadata": {},
     "source": [
      "c) Si se tuvieran realizaciones de la v. a. $Z$, \u00bfc\u00f3mo se podr\u00edan generar realizaciones de la v. a. $X$ a partir de las realizaciones de $Z$?\n",
      "\n",
      "Al ser $\\tau$ un par\u00e1metro de transformaci\u00f3n se cumple que $f_X(x) = \\tau x^{\\tau - 1} f_Z(x^\\tau)$, entonces si tenemos una realizaci\u00f3n de $Z$, $f_Z(u)$, al multiplicarla por $\\tau u^{\\frac{\\tau - 1}{\\tau}}$ obtenemos:\n",
      "\n",
      "$ \\tau u^{\\frac{\\tau - 1}{\\tau}} f_Z(u) = \\tau u^{1 - \\frac{1}{\\tau}} f_Z(u) = \\tau u^\\frac{\\tau - 1}{\\tau} f_Z(u) = \\tau {\\sqrt[\\tau]{u}}^{\\tau - 1} f_Z({\\sqrt[\\tau]{u}}^\\tau)$\n",
      "\n",
      "Por lo tanto, si $\\sqrt[\\tau]{u} = x$ tendremos que $$ \\tau u^{\\frac{\\tau - 1}{\\tau}} f_Z(u) = \\tau {\\sqrt[\\tau]{u}}^{\\tau - 1} f_Z({\\sqrt[\\tau]{u}}^\\tau) = \\tau x^{\\tau - 1} f_Z(x^\\tau) = f_X(x)$$\n",
      "\n",
      "que corresponde a una realizaci\u00f3n de la v. a. $X$"
     ]
    },
    {
     "cell_type": "heading",
     "level": 3,
     "metadata": {},
     "source": [
      "Anexos"
     ]
    },
    {
     "cell_type": "markdown",
     "metadata": {},
     "source": [
      "C\u00f3digo en Matlab/Octave\n",
      "\n",
      "Problema 1.\n",
      "```\n",
      "function h = fun_h(y)\n",
      "h = ((1./y).^2).*exp(-(1./y-1).^2./2);\n",
      "end\n",
      "\n",
      "% Tarea 1. Ejercicio 1\n",
      "n = 10000;\n",
      "u = rand(n, 1);\n",
      "x = fun_h(u);\n",
      "theta = 2.* mean(x)\n",
      "```\n",
      "\n",
      "Problema 2.\n",
      "\n",
      "(a)\n",
      "\n",
      "```\n",
      "function h = fun_h2(y, a)\n",
      "%Funcion auxiliar para calcular Gamma\n",
      "h = ((1./y).^2) .* exp(-(1./y-1)) .* (((1./y)-1).^(a - 1));\n",
      "end\n",
      "\n",
      "function g = funGamma(alpha)\n",
      "% Tarea 1. Ejercicio 2.a. Funcion Gamma\n",
      "n = 10000;\n",
      "u = rand(n, 1);\n",
      "x = fun_h2(u, alpha);\n",
      "g = mean(x);\n",
      "end\n",
      "```\n",
      "\n",
      "(b)\n",
      "\n",
      "```\n",
      "function g = fun_g(x, a, b)\n",
      "%Funcion auxiliar para calcular Beta\n",
      "g = (x.^(a - 1)) .* ((1 - x).^(b - 1));\n",
      "end\n",
      "\n",
      "function b = funBeta(alpha, beta)\n",
      "% Tarea 1. Ejercicio 2.a. Funcion Beta\n",
      "n = 10000;\n",
      "u = rand(n, 1);\n",
      "x = fun_g(u, alpha, beta);\n",
      "b = mean(x);\n",
      "end\n",
      "```\n",
      "\n",
      "Problema 3.\n",
      "\n",
      "```\n",
      "%Tarea 1. Ejercicio 3.\n",
      "a = funGamma(3) * funGamma(6) / funGamma(3 + 6)\n",
      "b = funBeta(3,6)\n",
      "```"
     ]
    }
   ],
   "metadata": {}
  }
 ]
}